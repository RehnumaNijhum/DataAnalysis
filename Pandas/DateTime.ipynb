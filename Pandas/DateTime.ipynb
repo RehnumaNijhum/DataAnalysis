{
 "cells": [
  {
   "cell_type": "code",
   "execution_count": 13,
   "id": "bedf5817",
   "metadata": {},
   "outputs": [],
   "source": [
    "import pandas as pd"
   ]
  },
  {
   "cell_type": "code",
   "execution_count": 14,
   "id": "0f29cb41",
   "metadata": {},
   "outputs": [],
   "source": [
    "Dataset = pd.read_csv('messages.csv')"
   ]
  },
  {
   "cell_type": "code",
   "execution_count": 40,
   "id": "219c90b9",
   "metadata": {},
   "outputs": [
    {
     "data": {
      "text/html": [
       "<div>\n",
       "<style scoped>\n",
       "    .dataframe tbody tr th:only-of-type {\n",
       "        vertical-align: middle;\n",
       "    }\n",
       "\n",
       "    .dataframe tbody tr th {\n",
       "        vertical-align: top;\n",
       "    }\n",
       "\n",
       "    .dataframe thead th {\n",
       "        text-align: right;\n",
       "    }\n",
       "</style>\n",
       "<table border=\"1\" class=\"dataframe\">\n",
       "  <thead>\n",
       "    <tr style=\"text-align: right;\">\n",
       "      <th></th>\n",
       "      <th>date</th>\n",
       "      <th>msg</th>\n",
       "    </tr>\n",
       "  </thead>\n",
       "  <tbody>\n",
       "    <tr>\n",
       "      <th>0</th>\n",
       "      <td>2013-12-15 00:50:00</td>\n",
       "      <td>ищу на сегодня мужика 37</td>\n",
       "    </tr>\n",
       "    <tr>\n",
       "      <th>1</th>\n",
       "      <td>2014-04-29 23:40:00</td>\n",
       "      <td>ПАРЕНЬ БИ ИЩЕТ ДРУГА СЕЙЧАС!! СМС ММС 0955532826</td>\n",
       "    </tr>\n",
       "    <tr>\n",
       "      <th>2</th>\n",
       "      <td>2012-12-30 00:21:00</td>\n",
       "      <td>Днепр.м 43 позн.с д/ж *.о  067.16.34.576</td>\n",
       "    </tr>\n",
       "    <tr>\n",
       "      <th>3</th>\n",
       "      <td>2014-11-28 00:31:00</td>\n",
       "      <td>КИЕВ ИЩУ Д/Ж ДО 45 МНЕ СЕЙЧАС СКУЧНО 093 629 9...</td>\n",
       "    </tr>\n",
       "    <tr>\n",
       "      <th>4</th>\n",
       "      <td>2013-10-26 23:11:00</td>\n",
       "      <td>Зая я тебя никогда не обижу  люблю тебя!)  Даше</td>\n",
       "    </tr>\n",
       "    <tr>\n",
       "      <th>5</th>\n",
       "      <td>2016-03-08 22:52:00</td>\n",
       "      <td>пар.32прок.дев.на авто по ночн.городу.Днепр.06...</td>\n",
       "    </tr>\n",
       "    <tr>\n",
       "      <th>6</th>\n",
       "      <td>2014-02-18 00:23:00</td>\n",
       "      <td>Семейная пара познакомится для отношений</td>\n",
       "    </tr>\n",
       "    <tr>\n",
       "      <th>7</th>\n",
       "      <td>2012-11-23 01:10:00</td>\n",
       "      <td>ДЛЯ С.П СНАЧАЛО СМС 066.679.400.8</td>\n",
       "    </tr>\n",
       "    <tr>\n",
       "      <th>8</th>\n",
       "      <td>2014-12-23 01:20:00</td>\n",
       "      <td>Дедушки ау вы где? СНЕГУРОЧКИ СКУЧАЮТ. Здесь е...</td>\n",
       "    </tr>\n",
       "    <tr>\n",
       "      <th>9</th>\n",
       "      <td>2012-11-03 23:46:00</td>\n",
       "      <td>ищу парня с авто.063 528 90 72</td>\n",
       "    </tr>\n",
       "    <tr>\n",
       "      <th>10</th>\n",
       "      <td>2013-07-26 00:11:00</td>\n",
       "      <td>Хочу обшения на инт темы с девушкой 0500747823...</td>\n",
       "    </tr>\n",
       "    <tr>\n",
       "      <th>11</th>\n",
       "      <td>2013-12-18 00:39:00</td>\n",
       "      <td>открою дверь прохожему который хочет погреться...</td>\n",
       "    </tr>\n",
       "    <tr>\n",
       "      <th>12</th>\n",
       "      <td>2013-06-05 01:05:00</td>\n",
       "      <td>.эксперементаторше. 0678676246</td>\n",
       "    </tr>\n",
       "    <tr>\n",
       "      <th>13</th>\n",
       "      <td>2016-11-27 22:29:00</td>\n",
       "      <td>Полненькая девушка ищет парня для серн.отн.Али...</td>\n",
       "    </tr>\n",
       "    <tr>\n",
       "      <th>14</th>\n",
       "      <td>2015-10-04 01:42:00</td>\n",
       "      <td>парень ищет общения. 099</td>\n",
       "    </tr>\n",
       "    <tr>\n",
       "      <th>15</th>\n",
       "      <td>2012-08-24 23:13:00</td>\n",
       "      <td>Саша 4 Я знаю все о твоих письмах.Сколько это ...</td>\n",
       "    </tr>\n",
       "    <tr>\n",
       "      <th>16</th>\n",
       "      <td>2015-10-19 22:52:00</td>\n",
       "      <td>КТО СДЕЛАЕТ ПАРНЮ МАССАЖ ДЕВ ИЛИ 2 СЕЙЧАС 099 ...</td>\n",
       "    </tr>\n",
       "    <tr>\n",
       "      <th>17</th>\n",
       "      <td>2013-10-13 01:01:00</td>\n",
       "      <td>М.37 хочу общения с д/ж и не только. смс ммс з...</td>\n",
       "    </tr>\n",
       "    <tr>\n",
       "      <th>18</th>\n",
       "      <td>2016-01-19 22:33:00</td>\n",
       "      <td>Элегантная госпожа ищет мальчика на побегушках...</td>\n",
       "    </tr>\n",
       "    <tr>\n",
       "      <th>19</th>\n",
       "      <td>2014-03-17 23:16:00</td>\n",
       "      <td>МЗ9ПОЗНАК.СО СТРОЙНОЙ ДЕВ.С ДНЕПРА ДО З0 ДЛЯ С...</td>\n",
       "    </tr>\n",
       "  </tbody>\n",
       "</table>\n",
       "</div>"
      ],
      "text/plain": [
       "                  date                                                msg\n",
       "0  2013-12-15 00:50:00                           ищу на сегодня мужика 37\n",
       "1  2014-04-29 23:40:00   ПАРЕНЬ БИ ИЩЕТ ДРУГА СЕЙЧАС!! СМС ММС 0955532826\n",
       "2  2012-12-30 00:21:00           Днепр.м 43 позн.с д/ж *.о  067.16.34.576\n",
       "3  2014-11-28 00:31:00  КИЕВ ИЩУ Д/Ж ДО 45 МНЕ СЕЙЧАС СКУЧНО 093 629 9...\n",
       "4  2013-10-26 23:11:00    Зая я тебя никогда не обижу  люблю тебя!)  Даше\n",
       "5  2016-03-08 22:52:00  пар.32прок.дев.на авто по ночн.городу.Днепр.06...\n",
       "6  2014-02-18 00:23:00           Семейная пара познакомится для отношений\n",
       "7  2012-11-23 01:10:00                  ДЛЯ С.П СНАЧАЛО СМС 066.679.400.8\n",
       "8  2014-12-23 01:20:00  Дедушки ау вы где? СНЕГУРОЧКИ СКУЧАЮТ. Здесь е...\n",
       "9  2012-11-03 23:46:00                     ищу парня с авто.063 528 90 72\n",
       "10 2013-07-26 00:11:00  Хочу обшения на инт темы с девушкой 0500747823...\n",
       "11 2013-12-18 00:39:00  открою дверь прохожему который хочет погреться...\n",
       "12 2013-06-05 01:05:00                     .эксперементаторше. 0678676246\n",
       "13 2016-11-27 22:29:00  Полненькая девушка ищет парня для серн.отн.Али...\n",
       "14 2015-10-04 01:42:00                           парень ищет общения. 099\n",
       "15 2012-08-24 23:13:00  Саша 4 Я знаю все о твоих письмах.Сколько это ...\n",
       "16 2015-10-19 22:52:00  КТО СДЕЛАЕТ ПАРНЮ МАССАЖ ДЕВ ИЛИ 2 СЕЙЧАС 099 ...\n",
       "17 2013-10-13 01:01:00  М.37 хочу общения с д/ж и не только. смс ммс з...\n",
       "18 2016-01-19 22:33:00  Элегантная госпожа ищет мальчика на побегушках...\n",
       "19 2014-03-17 23:16:00  МЗ9ПОЗНАК.СО СТРОЙНОЙ ДЕВ.С ДНЕПРА ДО З0 ДЛЯ С..."
      ]
     },
     "execution_count": 40,
     "metadata": {},
     "output_type": "execute_result"
    }
   ],
   "source": [
    "Dataset[:20]"
   ]
  },
  {
   "cell_type": "code",
   "execution_count": 16,
   "id": "c9ebe23b",
   "metadata": {},
   "outputs": [
    {
     "data": {
      "text/plain": [
       "date    object\n",
       "msg     object\n",
       "dtype: object"
      ]
     },
     "execution_count": 16,
     "metadata": {},
     "output_type": "execute_result"
    }
   ],
   "source": [
    "Dataset.dtypes"
   ]
  },
  {
   "cell_type": "code",
   "execution_count": 20,
   "id": "7cf19f42",
   "metadata": {},
   "outputs": [],
   "source": [
    "#changing data type object to datetime64\n",
    "Dataset['date'] = pd.to_datetime(Dataset.date)"
   ]
  },
  {
   "cell_type": "code",
   "execution_count": 21,
   "id": "c411fbc8",
   "metadata": {},
   "outputs": [
    {
     "data": {
      "text/html": [
       "<div>\n",
       "<style scoped>\n",
       "    .dataframe tbody tr th:only-of-type {\n",
       "        vertical-align: middle;\n",
       "    }\n",
       "\n",
       "    .dataframe tbody tr th {\n",
       "        vertical-align: top;\n",
       "    }\n",
       "\n",
       "    .dataframe thead th {\n",
       "        text-align: right;\n",
       "    }\n",
       "</style>\n",
       "<table border=\"1\" class=\"dataframe\">\n",
       "  <thead>\n",
       "    <tr style=\"text-align: right;\">\n",
       "      <th></th>\n",
       "      <th>date</th>\n",
       "      <th>msg</th>\n",
       "    </tr>\n",
       "  </thead>\n",
       "  <tbody>\n",
       "    <tr>\n",
       "      <th>0</th>\n",
       "      <td>2013-12-15 00:50:00</td>\n",
       "      <td>ищу на сегодня мужика 37</td>\n",
       "    </tr>\n",
       "    <tr>\n",
       "      <th>1</th>\n",
       "      <td>2014-04-29 23:40:00</td>\n",
       "      <td>ПАРЕНЬ БИ ИЩЕТ ДРУГА СЕЙЧАС!! СМС ММС 0955532826</td>\n",
       "    </tr>\n",
       "    <tr>\n",
       "      <th>2</th>\n",
       "      <td>2012-12-30 00:21:00</td>\n",
       "      <td>Днепр.м 43 позн.с д/ж *.о  067.16.34.576</td>\n",
       "    </tr>\n",
       "    <tr>\n",
       "      <th>3</th>\n",
       "      <td>2014-11-28 00:31:00</td>\n",
       "      <td>КИЕВ ИЩУ Д/Ж ДО 45 МНЕ СЕЙЧАС СКУЧНО 093 629 9...</td>\n",
       "    </tr>\n",
       "    <tr>\n",
       "      <th>4</th>\n",
       "      <td>2013-10-26 23:11:00</td>\n",
       "      <td>Зая я тебя никогда не обижу  люблю тебя!)  Даше</td>\n",
       "    </tr>\n",
       "  </tbody>\n",
       "</table>\n",
       "</div>"
      ],
      "text/plain": [
       "                 date                                                msg\n",
       "0 2013-12-15 00:50:00                           ищу на сегодня мужика 37\n",
       "1 2014-04-29 23:40:00   ПАРЕНЬ БИ ИЩЕТ ДРУГА СЕЙЧАС!! СМС ММС 0955532826\n",
       "2 2012-12-30 00:21:00           Днепр.м 43 позн.с д/ж *.о  067.16.34.576\n",
       "3 2014-11-28 00:31:00  КИЕВ ИЩУ Д/Ж ДО 45 МНЕ СЕЙЧАС СКУЧНО 093 629 9...\n",
       "4 2013-10-26 23:11:00    Зая я тебя никогда не обижу  люблю тебя!)  Даше"
      ]
     },
     "execution_count": 21,
     "metadata": {},
     "output_type": "execute_result"
    }
   ],
   "source": [
    "Dataset.head()"
   ]
  },
  {
   "cell_type": "code",
   "execution_count": 22,
   "id": "91d41b41",
   "metadata": {},
   "outputs": [
    {
     "data": {
      "text/plain": [
       "date    datetime64[ns]\n",
       "msg             object\n",
       "dtype: object"
      ]
     },
     "execution_count": 22,
     "metadata": {},
     "output_type": "execute_result"
    }
   ],
   "source": [
    "Dataset.dtypes"
   ]
  },
  {
   "cell_type": "code",
   "execution_count": 23,
   "id": "995e6afe",
   "metadata": {},
   "outputs": [
    {
     "data": {
      "text/plain": [
       "0       0\n",
       "1      23\n",
       "2       0\n",
       "3       0\n",
       "4      23\n",
       "       ..\n",
       "995     0\n",
       "996    23\n",
       "997    23\n",
       "998    23\n",
       "999    23\n",
       "Name: date, Length: 1000, dtype: int64"
      ]
     },
     "execution_count": 23,
     "metadata": {},
     "output_type": "execute_result"
    }
   ],
   "source": [
    "#finding hour\n",
    "Dataset.date.dt.hour"
   ]
  },
  {
   "cell_type": "code",
   "execution_count": 33,
   "id": "8994f0d8",
   "metadata": {},
   "outputs": [
    {
     "data": {
      "text/plain": [
       "0      6\n",
       "1      1\n",
       "2      6\n",
       "3      4\n",
       "4      5\n",
       "      ..\n",
       "995    4\n",
       "996    3\n",
       "997    0\n",
       "998    3\n",
       "999    3\n",
       "Name: date, Length: 1000, dtype: int64"
      ]
     },
     "execution_count": 33,
     "metadata": {},
     "output_type": "execute_result"
    }
   ],
   "source": [
    "#finding week day name\n",
    "Dataset.date.dt.dayofweek"
   ]
  },
  {
   "cell_type": "code",
   "execution_count": 49,
   "id": "6b792932",
   "metadata": {},
   "outputs": [],
   "source": [
    "# finding specific date data\n",
    "TargetDate = pd.to_datetime('1-1-2013')"
   ]
  },
  {
   "cell_type": "code",
   "execution_count": 50,
   "id": "433af827",
   "metadata": {},
   "outputs": [
    {
     "data": {
      "text/html": [
       "<div>\n",
       "<style scoped>\n",
       "    .dataframe tbody tr th:only-of-type {\n",
       "        vertical-align: middle;\n",
       "    }\n",
       "\n",
       "    .dataframe tbody tr th {\n",
       "        vertical-align: top;\n",
       "    }\n",
       "\n",
       "    .dataframe thead th {\n",
       "        text-align: right;\n",
       "    }\n",
       "</style>\n",
       "<table border=\"1\" class=\"dataframe\">\n",
       "  <thead>\n",
       "    <tr style=\"text-align: right;\">\n",
       "      <th></th>\n",
       "      <th>date</th>\n",
       "      <th>msg</th>\n",
       "    </tr>\n",
       "  </thead>\n",
       "  <tbody>\n",
       "    <tr>\n",
       "      <th>0</th>\n",
       "      <td>2013-12-15 00:50:00</td>\n",
       "      <td>ищу на сегодня мужика 37</td>\n",
       "    </tr>\n",
       "    <tr>\n",
       "      <th>1</th>\n",
       "      <td>2014-04-29 23:40:00</td>\n",
       "      <td>ПАРЕНЬ БИ ИЩЕТ ДРУГА СЕЙЧАС!! СМС ММС 0955532826</td>\n",
       "    </tr>\n",
       "    <tr>\n",
       "      <th>3</th>\n",
       "      <td>2014-11-28 00:31:00</td>\n",
       "      <td>КИЕВ ИЩУ Д/Ж ДО 45 МНЕ СЕЙЧАС СКУЧНО 093 629 9...</td>\n",
       "    </tr>\n",
       "    <tr>\n",
       "      <th>4</th>\n",
       "      <td>2013-10-26 23:11:00</td>\n",
       "      <td>Зая я тебя никогда не обижу  люблю тебя!)  Даше</td>\n",
       "    </tr>\n",
       "    <tr>\n",
       "      <th>5</th>\n",
       "      <td>2016-03-08 22:52:00</td>\n",
       "      <td>пар.32прок.дев.на авто по ночн.городу.Днепр.06...</td>\n",
       "    </tr>\n",
       "    <tr>\n",
       "      <th>...</th>\n",
       "      <td>...</td>\n",
       "      <td>...</td>\n",
       "    </tr>\n",
       "    <tr>\n",
       "      <th>992</th>\n",
       "      <td>2014-08-06 01:17:00</td>\n",
       "      <td>.. м55 ж22 познакомятся ...до 25  т. 095 671 2...</td>\n",
       "    </tr>\n",
       "    <tr>\n",
       "      <th>993</th>\n",
       "      <td>2015-07-23 23:02:00</td>\n",
       "      <td>Кривой Рог Парень27лет ищу стройную девушку дл...</td>\n",
       "    </tr>\n",
       "    <tr>\n",
       "      <th>994</th>\n",
       "      <td>2014-01-06 00:01:00</td>\n",
       "      <td>. ПАРЕНЬ ИШЕТ Д/Ж ДЛЯ ПОСТОЯНОГО.063.393.47.27...</td>\n",
       "    </tr>\n",
       "    <tr>\n",
       "      <th>996</th>\n",
       "      <td>2014-01-23 23:14:00</td>\n",
       "      <td>сельский п 23 ищу девушку для отношений</td>\n",
       "    </tr>\n",
       "    <tr>\n",
       "      <th>999</th>\n",
       "      <td>2014-06-19 23:25:00</td>\n",
       "      <td>Парень поласкает девушке...  т.0662035584</td>\n",
       "    </tr>\n",
       "  </tbody>\n",
       "</table>\n",
       "<p>784 rows × 2 columns</p>\n",
       "</div>"
      ],
      "text/plain": [
       "                   date                                                msg\n",
       "0   2013-12-15 00:50:00                           ищу на сегодня мужика 37\n",
       "1   2014-04-29 23:40:00   ПАРЕНЬ БИ ИЩЕТ ДРУГА СЕЙЧАС!! СМС ММС 0955532826\n",
       "3   2014-11-28 00:31:00  КИЕВ ИЩУ Д/Ж ДО 45 МНЕ СЕЙЧАС СКУЧНО 093 629 9...\n",
       "4   2013-10-26 23:11:00    Зая я тебя никогда не обижу  люблю тебя!)  Даше\n",
       "5   2016-03-08 22:52:00  пар.32прок.дев.на авто по ночн.городу.Днепр.06...\n",
       "..                  ...                                                ...\n",
       "992 2014-08-06 01:17:00  .. м55 ж22 познакомятся ...до 25  т. 095 671 2...\n",
       "993 2015-07-23 23:02:00  Кривой Рог Парень27лет ищу стройную девушку дл...\n",
       "994 2014-01-06 00:01:00  . ПАРЕНЬ ИШЕТ Д/Ж ДЛЯ ПОСТОЯНОГО.063.393.47.27...\n",
       "996 2014-01-23 23:14:00            сельский п 23 ищу девушку для отношений\n",
       "999 2014-06-19 23:25:00          Парень поласкает девушке...  т.0662035584\n",
       "\n",
       "[784 rows x 2 columns]"
      ]
     },
     "execution_count": 50,
     "metadata": {},
     "output_type": "execute_result"
    }
   ],
   "source": [
    "Dataset.loc[Dataset.date >=TargetDate, : ]"
   ]
  },
  {
   "cell_type": "code",
   "execution_count": 53,
   "id": "17f84d7c",
   "metadata": {},
   "outputs": [
    {
     "data": {
      "text/plain": [
       "Timestamp('2017-01-18 00:11:00')"
      ]
     },
     "execution_count": 53,
     "metadata": {},
     "output_type": "execute_result"
    }
   ],
   "source": [
    "# finding maximum time in the series\n",
    "Dataset.date.max()"
   ]
  },
  {
   "cell_type": "code",
   "execution_count": 54,
   "id": "14ecb9df",
   "metadata": {},
   "outputs": [
    {
     "data": {
      "text/plain": [
       "Timestamp('2012-01-01 02:58:00')"
      ]
     },
     "execution_count": 54,
     "metadata": {},
     "output_type": "execute_result"
    }
   ],
   "source": [
    "#finding minimum\n",
    "Dataset.date.min()"
   ]
  },
  {
   "cell_type": "code",
   "execution_count": 55,
   "id": "92097813",
   "metadata": {},
   "outputs": [],
   "source": [
    "matplotlib inline"
   ]
  },
  {
   "cell_type": "code",
   "execution_count": 57,
   "id": "270c1798",
   "metadata": {},
   "outputs": [],
   "source": [
    "Dataset['Year'] = Dataset.date.dt.year"
   ]
  },
  {
   "cell_type": "code",
   "execution_count": 58,
   "id": "3a6a440d",
   "metadata": {},
   "outputs": [
    {
     "data": {
      "text/html": [
       "<div>\n",
       "<style scoped>\n",
       "    .dataframe tbody tr th:only-of-type {\n",
       "        vertical-align: middle;\n",
       "    }\n",
       "\n",
       "    .dataframe tbody tr th {\n",
       "        vertical-align: top;\n",
       "    }\n",
       "\n",
       "    .dataframe thead th {\n",
       "        text-align: right;\n",
       "    }\n",
       "</style>\n",
       "<table border=\"1\" class=\"dataframe\">\n",
       "  <thead>\n",
       "    <tr style=\"text-align: right;\">\n",
       "      <th></th>\n",
       "      <th>date</th>\n",
       "      <th>msg</th>\n",
       "      <th>Year</th>\n",
       "    </tr>\n",
       "  </thead>\n",
       "  <tbody>\n",
       "    <tr>\n",
       "      <th>0</th>\n",
       "      <td>2013-12-15 00:50:00</td>\n",
       "      <td>ищу на сегодня мужика 37</td>\n",
       "      <td>2013</td>\n",
       "    </tr>\n",
       "    <tr>\n",
       "      <th>1</th>\n",
       "      <td>2014-04-29 23:40:00</td>\n",
       "      <td>ПАРЕНЬ БИ ИЩЕТ ДРУГА СЕЙЧАС!! СМС ММС 0955532826</td>\n",
       "      <td>2014</td>\n",
       "    </tr>\n",
       "    <tr>\n",
       "      <th>2</th>\n",
       "      <td>2012-12-30 00:21:00</td>\n",
       "      <td>Днепр.м 43 позн.с д/ж *.о  067.16.34.576</td>\n",
       "      <td>2012</td>\n",
       "    </tr>\n",
       "    <tr>\n",
       "      <th>3</th>\n",
       "      <td>2014-11-28 00:31:00</td>\n",
       "      <td>КИЕВ ИЩУ Д/Ж ДО 45 МНЕ СЕЙЧАС СКУЧНО 093 629 9...</td>\n",
       "      <td>2014</td>\n",
       "    </tr>\n",
       "    <tr>\n",
       "      <th>4</th>\n",
       "      <td>2013-10-26 23:11:00</td>\n",
       "      <td>Зая я тебя никогда не обижу  люблю тебя!)  Даше</td>\n",
       "      <td>2013</td>\n",
       "    </tr>\n",
       "  </tbody>\n",
       "</table>\n",
       "</div>"
      ],
      "text/plain": [
       "                 date                                                msg  Year\n",
       "0 2013-12-15 00:50:00                           ищу на сегодня мужика 37  2013\n",
       "1 2014-04-29 23:40:00   ПАРЕНЬ БИ ИЩЕТ ДРУГА СЕЙЧАС!! СМС ММС 0955532826  2014\n",
       "2 2012-12-30 00:21:00           Днепр.м 43 позн.с д/ж *.о  067.16.34.576  2012\n",
       "3 2014-11-28 00:31:00  КИЕВ ИЩУ Д/Ж ДО 45 МНЕ СЕЙЧАС СКУЧНО 093 629 9...  2014\n",
       "4 2013-10-26 23:11:00    Зая я тебя никогда не обижу  люблю тебя!)  Даше  2013"
      ]
     },
     "execution_count": 58,
     "metadata": {},
     "output_type": "execute_result"
    }
   ],
   "source": [
    "Dataset.head()"
   ]
  },
  {
   "cell_type": "code",
   "execution_count": 62,
   "id": "f68d850e",
   "metadata": {},
   "outputs": [
    {
     "data": {
      "text/plain": [
       "<AxesSubplot:>"
      ]
     },
     "execution_count": 62,
     "metadata": {},
     "output_type": "execute_result"
    },
    {
     "data": {
      "image/png": "[encoded data removed]",
      "text/plain": [
       "<Figure size 640x480 with 1 Axes>"
      ]
     },
     "metadata": {},
     "output_type": "display_data"
    }
   ],
   "source": [
    "#visualizing year data\n",
    "Dataset.Year.value_counts().sort_index().plot()"
   ]
  },
  {
   "cell_type": "code",
   "execution_count": 63,
   "id": "1f12db7d",
   "metadata": {},
   "outputs": [
    {
     "data": {
      "text/plain": [
       "2013    290\n",
       "2014    240\n",
       "2012    216\n",
       "2015    153\n",
       "2016     99\n",
       "2017      2\n",
       "Name: Year, dtype: int64"
      ]
     },
     "execution_count": 63,
     "metadata": {},
     "output_type": "execute_result"
    }
   ],
   "source": [
    "Dataset.Year.value_counts()"
   ]
  },
  {
   "cell_type": "code",
   "execution_count": null,
   "id": "9674b24c",
   "metadata": {},
   "outputs": [],
   "source": []
  }
 ],
 "metadata": {
  "kernelspec": {
   "display_name": "Python 3 (ipykernel)",
   "language": "python",
   "name": "python3"
  },
  "language_info": {
   "codemirror_mode": {
    "name": "ipython",
    "version": 3
   },
   "file_extension": ".py",
   "mimetype": "text/x-python",
   "name": "python",
   "nbconvert_exporter": "python",
   "pygments_lexer": "ipython3",
   "version": "3.10.6"
  }
 },
 "nbformat": 4,
 "nbformat_minor": 5
}
